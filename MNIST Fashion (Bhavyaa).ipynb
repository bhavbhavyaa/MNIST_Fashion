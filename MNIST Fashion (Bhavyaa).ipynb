{
 "cells": [
  {
   "cell_type": "code",
   "execution_count": 29,
   "metadata": {},
   "outputs": [],
   "source": [
    "import numpy as np\n",
    "import matplotlib.pyplot as plt\n",
    "import seaborn as sns\n",
    "import tensorflow as tf\n",
    "from tensorflow import keras\n",
    "from tensorflow.keras.preprocessing.image import ImageDataGenerator\n",
    "%matplotlib inline"
   ]
  },
  {
   "cell_type": "code",
   "execution_count": 4,
   "metadata": {},
   "outputs": [],
   "source": [
    "mnist_fashion = keras.datasets.fashion_mnist"
   ]
  },
  {
   "cell_type": "code",
   "execution_count": 5,
   "metadata": {},
   "outputs": [],
   "source": [
    "(x_train,y_train), (x_test,y_test) = mnist_fashion.load_data()"
   ]
  },
  {
   "cell_type": "code",
   "execution_count": 8,
   "metadata": {},
   "outputs": [
    {
     "name": "stdout",
     "output_type": "stream",
     "text": [
      "(60000, 28, 28)\n",
      "(10000, 28, 28)\n",
      "(60000,)\n",
      "(10000,)\n"
     ]
    }
   ],
   "source": [
    "print(x_train.shape)\n",
    "print(x_test.shape)\n",
    "print(y_train.shape)\n",
    "print(y_test.shape)"
   ]
  },
  {
   "cell_type": "code",
   "execution_count": 10,
   "metadata": {},
   "outputs": [
    {
     "data": {
      "text/plain": [
       "<matplotlib.axes._subplots.AxesSubplot at 0x24e033aeee0>"
      ]
     },
     "execution_count": 10,
     "metadata": {},
     "output_type": "execute_result"
    },
    {
     "data": {
      "image/png": "[encoded data removed]",
      "text/plain": [
       "<Figure size 432x288 with 1 Axes>"
      ]
     },
     "metadata": {
      "needs_background": "light"
     },
     "output_type": "display_data"
    }
   ],
   "source": [
    "sns.countplot(y_train)"
   ]
  },
  {
   "cell_type": "code",
   "execution_count": 12,
   "metadata": {},
   "outputs": [],
   "source": [
    "x_train = x_train.reshape([60000, 28, 28, 1])\n",
    "x_test = x_test.reshape([10000, 28, 28, 1])"
   ]
  },
  {
   "cell_type": "code",
   "execution_count": 13,
   "metadata": {},
   "outputs": [],
   "source": [
    "from keras.utils.np_utils import to_categorical\n",
    "y_train = to_categorical(y_train , num_classes = 10)\n",
    "y_test = to_categorical(y_test, num_classes = 10)"
   ]
  },
  {
   "cell_type": "code",
   "execution_count": 14,
   "metadata": {},
   "outputs": [
    {
     "name": "stdout",
     "output_type": "stream",
     "text": [
      "(60000, 28, 28, 1)\n",
      "(10000, 28, 28, 1)\n",
      "(60000, 10)\n",
      "(10000, 10)\n"
     ]
    }
   ],
   "source": [
    "print(x_train.shape)\n",
    "print(x_test.shape)\n",
    "print(y_train.shape)\n",
    "print(y_test.shape)"
   ]
  },
  {
   "cell_type": "code",
   "execution_count": 17,
   "metadata": {},
   "outputs": [],
   "source": [
    "train_datagen = ImageDataGenerator(\n",
    "    rescale = 1./255,\n",
    "    rotation_range = 10,\n",
    "    zoom_range = 0.1,\n",
    "    width_shift_range = 0.1,\n",
    "    height_shift_range = 0.1)\n",
    "train_datagen.fit(x_train)"
   ]
  },
  {
   "cell_type": "code",
   "execution_count": 18,
   "metadata": {},
   "outputs": [],
   "source": [
    "val_datagen = ImageDataGenerator(\n",
    "    rescale = 1./255)\n",
    "val_datagen.fit(x_test)"
   ]
  },
  {
   "cell_type": "code",
   "execution_count": 19,
   "metadata": {},
   "outputs": [],
   "source": [
    "model = keras.models.Sequential([\n",
    "    keras.layers.Conv2D(64, (3,3), padding = 'same', activation = 'relu', input_shape = (28, 28, 1)),\n",
    "    keras.layers.MaxPooling2D(2,2),\n",
    "    keras.layers.Conv2D(128, (3,3), activation = 'relu'),\n",
    "    keras.layers.MaxPooling2D(2,2),\n",
    "    keras.layers.Conv2D(256, (3,3), activation = 'relu'),\n",
    "    keras.layers.MaxPooling2D(2,2),\n",
    "    keras.layers.Flatten(),\n",
    "    keras.layers.Dense(128, activation = 'relu'),\n",
    "    keras.layers.Dense(10, activation = 'softmax')\n",
    "])"
   ]
  },
  {
   "cell_type": "code",
   "execution_count": 20,
   "metadata": {},
   "outputs": [
    {
     "name": "stdout",
     "output_type": "stream",
     "text": [
      "Model: \"sequential\"\n",
      "_________________________________________________________________\n",
      "Layer (type)                 Output Shape              Param #   \n",
      "=================================================================\n",
      "conv2d (Conv2D)              (None, 28, 28, 64)        640       \n",
      "_________________________________________________________________\n",
      "max_pooling2d (MaxPooling2D) (None, 14, 14, 64)        0         \n",
      "_________________________________________________________________\n",
      "conv2d_1 (Conv2D)            (None, 12, 12, 128)       73856     \n",
      "_________________________________________________________________\n",
      "max_pooling2d_1 (MaxPooling2 (None, 6, 6, 128)         0         \n",
      "_________________________________________________________________\n",
      "conv2d_2 (Conv2D)            (None, 4, 4, 256)         295168    \n",
      "_________________________________________________________________\n",
      "max_pooling2d_2 (MaxPooling2 (None, 2, 2, 256)         0         \n",
      "_________________________________________________________________\n",
      "flatten (Flatten)            (None, 1024)              0         \n",
      "_________________________________________________________________\n",
      "dense (Dense)                (None, 128)               131200    \n",
      "_________________________________________________________________\n",
      "dense_1 (Dense)              (None, 10)                1290      \n",
      "=================================================================\n",
      "Total params: 502,154\n",
      "Trainable params: 502,154\n",
      "Non-trainable params: 0\n",
      "_________________________________________________________________\n"
     ]
    }
   ],
   "source": [
    "model.summary()"
   ]
  },
  {
   "cell_type": "code",
   "execution_count": 21,
   "metadata": {},
   "outputs": [],
   "source": [
    "from keras.optimizers import Adam\n",
    "model.compile(optimizer = Adam() , loss = \"categorical_crossentropy\" , metrics = [\"accuracy\"])"
   ]
  },
  {
   "cell_type": "code",
   "execution_count": 23,
   "metadata": {},
   "outputs": [
    {
     "name": "stdout",
     "output_type": "stream",
     "text": [
      "Epoch 1/30\n",
      "938/938 [==============================] - 192s 202ms/step - loss: 0.6184 - accuracy: 0.7673 - val_loss: 0.4263 - val_accuracy: 0.8376\n",
      "Epoch 2/30\n",
      "938/938 [==============================] - 143s 152ms/step - loss: 0.4163 - accuracy: 0.8438 - val_loss: 0.3393 - val_accuracy: 0.8777\n",
      "Epoch 3/30\n",
      "938/938 [==============================] - 139s 148ms/step - loss: 0.3664 - accuracy: 0.8625 - val_loss: 0.3295 - val_accuracy: 0.8773\n",
      "Epoch 4/30\n",
      "938/938 [==============================] - 133s 142ms/step - loss: 0.3327 - accuracy: 0.8735 - val_loss: 0.2885 - val_accuracy: 0.8906\n",
      "Epoch 5/30\n",
      "938/938 [==============================] - 130s 138ms/step - loss: 0.3126 - accuracy: 0.8825 - val_loss: 0.3008 - val_accuracy: 0.8947\n",
      "Epoch 6/30\n",
      "938/938 [==============================] - 129s 138ms/step - loss: 0.2983 - accuracy: 0.8877 - val_loss: 0.2707 - val_accuracy: 0.8992\n",
      "Epoch 7/30\n",
      "938/938 [==============================] - 130s 139ms/step - loss: 0.2842 - accuracy: 0.8921 - val_loss: 0.2595 - val_accuracy: 0.9074\n",
      "Epoch 8/30\n",
      "938/938 [==============================] - 141s 150ms/step - loss: 0.2726 - accuracy: 0.8974 - val_loss: 0.2558 - val_accuracy: 0.9052\n",
      "Epoch 9/30\n",
      "938/938 [==============================] - 144s 154ms/step - loss: 0.2644 - accuracy: 0.9007 - val_loss: 0.2576 - val_accuracy: 0.9050\n",
      "Epoch 10/30\n",
      "938/938 [==============================] - 132s 141ms/step - loss: 0.2568 - accuracy: 0.9028 - val_loss: 0.2542 - val_accuracy: 0.9070\n",
      "Epoch 11/30\n",
      "938/938 [==============================] - 135s 144ms/step - loss: 0.2460 - accuracy: 0.9058 - val_loss: 0.2874 - val_accuracy: 0.8963\n",
      "Epoch 12/30\n",
      "938/938 [==============================] - 135s 144ms/step - loss: 0.2421 - accuracy: 0.9090 - val_loss: 0.2380 - val_accuracy: 0.9158\n",
      "Epoch 13/30\n",
      "938/938 [==============================] - 124s 132ms/step - loss: 0.2323 - accuracy: 0.9131 - val_loss: 0.2476 - val_accuracy: 0.9133\n",
      "Epoch 14/30\n",
      "938/938 [==============================] - 128s 136ms/step - loss: 0.2318 - accuracy: 0.9137 - val_loss: 0.2598 - val_accuracy: 0.9073\n",
      "Epoch 15/30\n",
      "938/938 [==============================] - 126s 135ms/step - loss: 0.2255 - accuracy: 0.9158 - val_loss: 0.2663 - val_accuracy: 0.9090\n",
      "Epoch 16/30\n",
      "938/938 [==============================] - 128s 136ms/step - loss: 0.2180 - accuracy: 0.9190 - val_loss: 0.2480 - val_accuracy: 0.9132\n",
      "Epoch 17/30\n",
      "938/938 [==============================] - 127s 135ms/step - loss: 0.2178 - accuracy: 0.9178 - val_loss: 0.2381 - val_accuracy: 0.9157\n",
      "Epoch 18/30\n",
      "938/938 [==============================] - 127s 135ms/step - loss: 0.2139 - accuracy: 0.9185 - val_loss: 0.2507 - val_accuracy: 0.9163\n",
      "Epoch 19/30\n",
      "938/938 [==============================] - 126s 134ms/step - loss: 0.2092 - accuracy: 0.9217 - val_loss: 0.2286 - val_accuracy: 0.9183\n",
      "Epoch 20/30\n",
      "938/938 [==============================] - 128s 137ms/step - loss: 0.2098 - accuracy: 0.9214 - val_loss: 0.2290 - val_accuracy: 0.9205\n",
      "Epoch 21/30\n",
      "938/938 [==============================] - 137s 146ms/step - loss: 0.2030 - accuracy: 0.9240 - val_loss: 0.2373 - val_accuracy: 0.9189\n",
      "Epoch 22/30\n",
      "938/938 [==============================] - 137s 145ms/step - loss: 0.1999 - accuracy: 0.9238 - val_loss: 0.2737 - val_accuracy: 0.9094\n",
      "Epoch 23/30\n",
      "938/938 [==============================] - 132s 141ms/step - loss: 0.1972 - accuracy: 0.9251 - val_loss: 0.2415 - val_accuracy: 0.9159\n",
      "Epoch 24/30\n",
      "938/938 [==============================] - 133s 142ms/step - loss: 0.1930 - accuracy: 0.9268 - val_loss: 0.2198 - val_accuracy: 0.9259\n",
      "Epoch 25/30\n",
      "938/938 [==============================] - 132s 141ms/step - loss: 0.1947 - accuracy: 0.9273 - val_loss: 0.2557 - val_accuracy: 0.9159\n",
      "Epoch 26/30\n",
      "938/938 [==============================] - 129s 138ms/step - loss: 0.1910 - accuracy: 0.9276 - val_loss: 0.2344 - val_accuracy: 0.9180\n",
      "Epoch 27/30\n",
      "938/938 [==============================] - 139s 148ms/step - loss: 0.1873 - accuracy: 0.9299 - val_loss: 0.2349 - val_accuracy: 0.9226\n",
      "Epoch 28/30\n",
      "938/938 [==============================] - 142s 152ms/step - loss: 0.1840 - accuracy: 0.9309 - val_loss: 0.2460 - val_accuracy: 0.9203\n",
      "Epoch 29/30\n",
      "938/938 [==============================] - 151s 161ms/step - loss: 0.1816 - accuracy: 0.9314 - val_loss: 0.2330 - val_accuracy: 0.9225\n",
      "Epoch 30/30\n",
      "938/938 [==============================] - 146s 156ms/step - loss: 0.1818 - accuracy: 0.9313 - val_loss: 0.2491 - val_accuracy: 0.9185\n"
     ]
    }
   ],
   "source": [
    "training = model.fit(train_datagen.flow(x_train,y_train, batch_size = 64), validation_data = val_datagen.flow(x_test, y_test),\n",
    "                    batch_size = 64,\n",
    "                    epochs = 30,\n",
    "                    verbose = 1)"
   ]
  },
  {
   "cell_type": "code",
   "execution_count": 25,
   "metadata": {},
   "outputs": [
    {
     "data": {
      "image/png": "[encoded data removed]",
      "text/plain": [
       "<Figure size 432x288 with 1 Axes>"
      ]
     },
     "metadata": {
      "needs_background": "light"
     },
     "output_type": "display_data"
    }
   ],
   "source": [
    "plt.plot(training.history['accuracy'])\n",
    "plt.plot(training.history['val_accuracy'])\n",
    "plt.title('model accuracy')\n",
    "plt.ylabel('accuracy')\n",
    "plt.xlabel('epoch')\n",
    "plt.legend(['train', 'test'], loc='upper left')\n",
    "plt.show()"
   ]
  },
  {
   "cell_type": "code",
   "execution_count": 26,
   "metadata": {},
   "outputs": [
    {
     "data": {
      "image/png": "[encoded data removed]",
      "text/plain": [
       "<Figure size 432x288 with 1 Axes>"
      ]
     },
     "metadata": {
      "needs_background": "light"
     },
     "output_type": "display_data"
    }
   ],
   "source": [
    "plt.plot(training.history['loss'])\n",
    "plt.plot(training.history['val_loss'])\n",
    "plt.title('model loss')\n",
    "plt.ylabel('loss')\n",
    "plt.xlabel('epoch')\n",
    "plt.legend(['train', 'test'], loc='upper left')\n",
    "plt.show()"
   ]
  },
  {
   "cell_type": "code",
   "execution_count": 38,
   "metadata": {},
   "outputs": [],
   "source": [
    "model.save(\"fashion_mnist.h5\")"
   ]
  },
  {
   "cell_type": "code",
   "execution_count": null,
   "metadata": {},
   "outputs": [],
   "source": []
  }
 ],
 "metadata": {
  "kernelspec": {
   "display_name": "Python 3",
   "language": "python",
   "name": "python3"
  },
  "language_info": {
   "codemirror_mode": {
    "name": "ipython",
    "version": 3
   },
   "file_extension": ".py",
   "mimetype": "text/x-python",
   "name": "python",
   "nbconvert_exporter": "python",
   "pygments_lexer": "ipython3",
   "version": "3.8.3"
  }
 },
 "nbformat": 4,
 "nbformat_minor": 4
}
